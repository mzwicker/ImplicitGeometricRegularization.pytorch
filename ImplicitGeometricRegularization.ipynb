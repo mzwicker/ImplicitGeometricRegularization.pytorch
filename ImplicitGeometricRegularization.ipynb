{
  "nbformat": 4,
  "nbformat_minor": 0,
  "metadata": {
    "colab": {
      "name": "ImplicitGeometricRegularization.ipynb",
      "provenance": [],
      "authorship_tag": "ABX9TyMvLLmNZe0rMIteMHDqmGA7",
      "include_colab_link": true
    },
    "kernelspec": {
      "name": "python3",
      "display_name": "Python 3"
    },
    "accelerator": "GPU"
  },
  "cells": [
    {
      "cell_type": "markdown",
      "metadata": {
        "id": "view-in-github",
        "colab_type": "text"
      },
      "source": [
        "<a href=\"https://colab.research.google.com/github/mzwicker/ImplicitGeometricRegularization.pytorch/blob/master/ImplicitGeometricRegularization.ipynb\" target=\"_parent\"><img src=\"https://colab.research.google.com/assets/colab-badge.svg\" alt=\"Open In Colab\"/></a>"
      ]
    },
    {
      "cell_type": "code",
      "metadata": {
        "id": "tFfV0eB4FnqF",
        "colab_type": "code",
        "colab": {}
      },
      "source": [
        "!git clone https://github.com/mzwicker/ImplicitGeometricRegularization.pytorch\n",
        "%cd ImplicitGeometricRegularization.pytorch"
      ],
      "execution_count": 0,
      "outputs": []
    },
    {
      "cell_type": "code",
      "metadata": {
        "id": "oOQlly-C4QoI",
        "colab_type": "code",
        "colab": {}
      },
      "source": [
        "%run train_toy_2d.py"
      ],
      "execution_count": 0,
      "outputs": []
    }
  ]
}